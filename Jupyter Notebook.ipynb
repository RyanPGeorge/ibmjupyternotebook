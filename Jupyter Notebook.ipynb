{
    "cells": [
        {
            "metadata": {},
            "cell_type": "markdown",
            "source": "# My Jupyter Notebook on IBM Watson Studio"
        },
        {
            "metadata": {},
            "cell_type": "markdown",
            "source": "__Ryan George <br> Desired Occupation: Data Scientist__"
        },
        {
            "metadata": {},
            "cell_type": "markdown",
            "source": "_I am interested in data science because it is a future facing career with broad applications across various industries. I would like to obtain a skill set for a career that is portable, valuable, challenging, and interesting, and I believe data science offers all of that and more._"
        },
        {
            "metadata": {},
            "cell_type": "markdown",
            "source": "### The following code will output a string of text that says \"I love data science!\""
        },
        {
            "metadata": {},
            "cell_type": "code",
            "source": "print(\"I love data science!\")",
            "execution_count": 3,
            "outputs": [
                {
                    "output_type": "stream",
                    "text": "I love data science!\n",
                    "name": "stdout"
                }
            ]
        },
        {
            "metadata": {},
            "cell_type": "markdown",
            "source": "This line of text is sitting above a horizontal rule\n***\nHere is a bulleted list containing:\n- ~text with strikethough~\n- text without strikethrough\n\nIn this cell, I have included a horizontal rule, "
        },
        {
            "metadata": {},
            "cell_type": "code",
            "source": "",
            "execution_count": null,
            "outputs": []
        }
    ],
    "metadata": {
        "kernelspec": {
            "name": "python3",
            "display_name": "Python 3.6",
            "language": "python"
        },
        "language_info": {
            "name": "python",
            "version": "3.6.9",
            "mimetype": "text/x-python",
            "codemirror_mode": {
                "name": "ipython",
                "version": 3
            },
            "pygments_lexer": "ipython3",
            "nbconvert_exporter": "python",
            "file_extension": ".py"
        }
    },
    "nbformat": 4,
    "nbformat_minor": 1
}